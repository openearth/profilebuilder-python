{
 "cells": [
  {
   "cell_type": "code",
   "execution_count": 1,
   "metadata": {},
   "outputs": [],
   "source": [
    "import logging\n",
    "logging.basicConfig(level=logging.DEBUG)\n",
    "import matplotlib.pyplot as plt\n",
    "\n",
    "from profilebuilder import *"
   ]
  },
  {
   "cell_type": "code",
   "execution_count": 2,
   "metadata": {},
   "outputs": [
    {
     "name": "stderr",
     "output_type": "stream",
     "text": [
      "DEBUG:profilebuilder.profilebuilder:Geometry underdetermined in x-direction, using relative position...\n",
      "DEBUG:profilebuilder.profilebuilder:Geometry underdetermined in z-direction, using relative position...\n",
      "DEBUG:profilebuilder.profilebuilder:Geometry still underdetermined in x-direction.\n",
      "DEBUG:profilebuilder.profilebuilder:Geometry underdetermined in x-direction, using relative position...\n",
      "DEBUG:profilebuilder.profilebuilder:Geometry underdetermined in z-direction, using relative position...\n",
      "DEBUG:profilebuilder.profilebuilder:Geometry underdetermined in x-direction, using relative position...\n",
      "DEBUG:profilebuilder.profilebuilder:Geometry underdetermined in z-direction, using relative position...\n",
      "DEBUG:profilebuilder.profilebuilder:Geometry still underdetermined in x-direction.\n",
      "DEBUG:profilebuilder.profilebuilder:Geometry underdetermined in x-direction, using relative position...\n",
      "DEBUG:profilebuilder.profilebuilder:Geometry underdetermined in z-direction, using relative position...\n"
     ]
    },
    {
     "data": {
      "image/png": "[encoded data removed]",
      "text/plain": [
       "<matplotlib.figure.Figure at 0x1067dea20>"
      ]
     },
     "metadata": {},
     "output_type": "display_data"
    }
   ],
   "source": [
    "%matplotlib inline\n",
    "\n",
    "fig, ax = plt.subplots(figsize=(10,4))\n",
    "\n",
    "p = Profile()\n",
    "p.append(slope='1:3', z1=0., z2=11.)\n",
    "p.append(slope=0, dx=2)\n",
    "p.append(slope='-1:2', z2=2.5, x2=220.)\n",
    "p.append(slope=0, dx=10)\n",
    "p.plot(ax=ax)\n",
    "\n",
    "p = Profile()\n",
    "p.append(slope='1:3', z1=0., z2=5.)\n",
    "p.append(slope=0, dx=25)\n",
    "p.append(slope='-1:2', z2=2.5, x2=220.)\n",
    "p.append(slope=0, dx=10)\n",
    "p.plot(ax=ax)\n",
    "\n",
    "ax.grid()\n"
   ]
  },
  {
   "cell_type": "code",
   "execution_count": 3,
   "metadata": {},
   "outputs": [
    {
     "data": {
      "text/plain": [
       "'[{\"z1\":0.0,\"z2\":5.0,\"slope\":\"1:3\"},{\"dx\":25,\"slope\":0},{\"x2\":220.0,\"z2\":2.5,\"slope\":\"-1:2\"},{\"dx\":10,\"slope\":0}]'"
      ]
     },
     "execution_count": 3,
     "metadata": {},
     "output_type": "execute_result"
    }
   ],
   "source": [
    "p.to_json()"
   ]
  },
  {
   "cell_type": "code",
   "execution_count": 4,
   "metadata": {},
   "outputs": [
    {
     "name": "stderr",
     "output_type": "stream",
     "text": [
      "DEBUG:profilebuilder.profilebuilder:Geometry underdetermined in x-direction, using relative position...\n",
      "DEBUG:profilebuilder.profilebuilder:Geometry underdetermined in z-direction, using relative position...\n",
      "DEBUG:profilebuilder.profilebuilder:Geometry still underdetermined in x-direction.\n",
      "DEBUG:profilebuilder.profilebuilder:Geometry underdetermined in x-direction, using relative position...\n",
      "DEBUG:profilebuilder.profilebuilder:Geometry underdetermined in z-direction, using relative position...\n"
     ]
    },
    {
     "data": {
      "text/plain": [
       "([175.0, 190.0, 215.0, 220.0, 230.0], [0.0, 5.0, 5.0, 2.5, 2.5])"
      ]
     },
     "execution_count": 4,
     "metadata": {},
     "output_type": "execute_result"
    }
   ],
   "source": [
    "p.get_geometry()"
   ]
  },
  {
   "cell_type": "code",
   "execution_count": 5,
   "metadata": {},
   "outputs": [
    {
     "name": "stderr",
     "output_type": "stream",
     "text": [
      "DEBUG:profilebuilder.profilebuilder:Geometry underdetermined in x-direction, using relative position...\n",
      "DEBUG:profilebuilder.profilebuilder:Geometry underdetermined in z-direction, using relative position...\n",
      "DEBUG:profilebuilder.profilebuilder:Geometry still underdetermined in x-direction.\n",
      "DEBUG:profilebuilder.profilebuilder:Geometry underdetermined in x-direction, using relative position...\n",
      "DEBUG:profilebuilder.profilebuilder:Geometry underdetermined in z-direction, using relative position...\n",
      "DEBUG:profilebuilder.profilebuilder:Geometry underdetermined in x-direction, using relative position...\n",
      "DEBUG:profilebuilder.profilebuilder:Geometry underdetermined in z-direction, using relative position...\n",
      "DEBUG:profilebuilder.profilebuilder:Geometry still underdetermined in x-direction.\n",
      "DEBUG:profilebuilder.profilebuilder:Geometry underdetermined in x-direction, using relative position...\n",
      "DEBUG:profilebuilder.profilebuilder:Geometry underdetermined in z-direction, using relative position...\n"
     ]
    },
    {
     "data": {
      "text/plain": [
       "(<matplotlib.figure.Figure at 0x10673efd0>,\n",
       " <matplotlib.axes._subplots.AxesSubplot at 0x1067d2c88>)"
      ]
     },
     "execution_count": 5,
     "metadata": {},
     "output_type": "execute_result"
    },
    {
     "data": {
      "image/png": "[encoded data removed]",
      "text/plain": [
       "<matplotlib.figure.Figure at 0x10673efd0>"
      ]
     },
     "metadata": {},
     "output_type": "display_data"
    }
   ],
   "source": [
    "p = templates.DikeProfile()\n",
    "p.plot()"
   ]
  },
  {
   "cell_type": "code",
   "execution_count": 6,
   "metadata": {},
   "outputs": [
    {
     "name": "stderr",
     "output_type": "stream",
     "text": [
      "DEBUG:profilebuilder.profilebuilder:Geometry underdetermined in x-direction, using relative position...\n",
      "DEBUG:profilebuilder.profilebuilder:Geometry underdetermined in z-direction, using relative position...\n",
      "DEBUG:profilebuilder.profilebuilder:Geometry still underdetermined in x-direction.\n",
      "DEBUG:profilebuilder.profilebuilder:Geometry underdetermined in x-direction, using relative position...\n",
      "DEBUG:profilebuilder.profilebuilder:Geometry underdetermined in z-direction, using relative position...\n",
      "DEBUG:profilebuilder.profilebuilder:Geometry underdetermined in x-direction, using relative position...\n",
      "DEBUG:profilebuilder.profilebuilder:Geometry underdetermined in z-direction, using relative position...\n",
      "DEBUG:profilebuilder.profilebuilder:Geometry still underdetermined in x-direction.\n",
      "DEBUG:profilebuilder.profilebuilder:Geometry underdetermined in x-direction, using relative position...\n",
      "DEBUG:profilebuilder.profilebuilder:Geometry underdetermined in z-direction, using relative position...\n",
      "DEBUG:profilebuilder.profilebuilder:Geometry still underdetermined in x-direction.\n",
      "DEBUG:profilebuilder.profilebuilder:Geometry underdetermined in x-direction, using relative position...\n",
      "DEBUG:profilebuilder.profilebuilder:Geometry underdetermined in z-direction, using relative position...\n",
      "DEBUG:profilebuilder.profilebuilder:Geometry underdetermined in x-direction, using relative position...\n",
      "DEBUG:profilebuilder.profilebuilder:Geometry underdetermined in z-direction, using relative position...\n",
      "DEBUG:profilebuilder.profilebuilder:Geometry underdetermined in x-direction, using relative position...\n",
      "DEBUG:profilebuilder.profilebuilder:Geometry underdetermined in z-direction, using relative position...\n",
      "DEBUG:profilebuilder.profilebuilder:Geometry still underdetermined in x-direction.\n",
      "DEBUG:profilebuilder.profilebuilder:Geometry underdetermined in x-direction, using relative position...\n",
      "DEBUG:profilebuilder.profilebuilder:Geometry underdetermined in z-direction, using relative position...\n",
      "DEBUG:profilebuilder.profilebuilder:Geometry still underdetermined in x-direction.\n",
      "DEBUG:profilebuilder.profilebuilder:Geometry underdetermined in x-direction, using relative position...\n",
      "DEBUG:profilebuilder.profilebuilder:Geometry underdetermined in z-direction, using relative position...\n",
      "DEBUG:profilebuilder.profilebuilder:Geometry underdetermined in x-direction, using relative position...\n",
      "DEBUG:profilebuilder.profilebuilder:Geometry underdetermined in z-direction, using relative position...\n"
     ]
    },
    {
     "data": {
      "text/plain": [
       "(<matplotlib.figure.Figure at 0x106818470>,\n",
       " <matplotlib.axes._subplots.AxesSubplot at 0x106a6ab00>)"
      ]
     },
     "execution_count": 6,
     "metadata": {},
     "output_type": "execute_result"
    },
    {
     "data": {
      "image/png": "[encoded data removed]",
      "text/plain": [
       "<matplotlib.figure.Figure at 0x106818470>"
      ]
     },
     "metadata": {},
     "output_type": "display_data"
    }
   ],
   "source": [
    "p = templates.DikeWithBermProfile(berm_width=20)\n",
    "p.plot()"
   ]
  },
  {
   "cell_type": "code",
   "execution_count": null,
   "metadata": {},
   "outputs": [],
   "source": []
  },
  {
   "cell_type": "code",
   "execution_count": null,
   "metadata": {},
   "outputs": [],
   "source": []
  },
  {
   "cell_type": "code",
   "execution_count": null,
   "metadata": {
    "collapsed": true
   },
   "outputs": [],
   "source": []
  }
 ],
 "metadata": {
  "kernelspec": {
   "display_name": "Python 3",
   "language": "python",
   "name": "python3"
  },
  "language_info": {
   "codemirror_mode": {
    "name": "ipython",
    "version": 3
   },
   "file_extension": ".py",
   "mimetype": "text/x-python",
   "name": "python",
   "nbconvert_exporter": "python",
   "pygments_lexer": "ipython3",
   "version": "3.6.1"
  }
 },
 "nbformat": 4,
 "nbformat_minor": 2
}
